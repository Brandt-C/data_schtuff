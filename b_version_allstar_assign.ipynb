{
 "cells": [
  {
   "cell_type": "markdown",
   "metadata": {},
   "source": [
    "# NBA All-Star Weekend Challenge\n",
    "\n",
    "Your task...answer the following questions given the dataset given about the NBA All-Star Game from the year 2000 - 2016\n",
    "\n",
    "Become more familiar with the dataset <a href=\"https://www.kaggle.com/fmejia21/nba-all-star-game-20002016\">here</a>\n",
    "\n",
    "Once completed, commit this notebook to github and submit the link to the google classroom assignment.\n",
    "\n",
    "<a href=\"https://classroom.google.com/u/2/c/NDc4MzEzMjI5Nzla/a/NTE3OTYxNzM2OTNa/details\">Google Classroom</a>"
   ]
  },
  {
   "cell_type": "markdown",
   "metadata": {},
   "source": [
    "# What is the average weight of all players who played during this time?"
   ]
  },
  {
   "cell_type": "code",
   "execution_count": 1,
   "metadata": {},
   "outputs": [],
   "source": [
    "import pandas as pd"
   ]
  },
  {
   "cell_type": "code",
   "execution_count": 2,
   "metadata": {},
   "outputs": [
    {
     "data": {
      "text/html": [
       "<div>\n",
       "<style scoped>\n",
       "    .dataframe tbody tr th:only-of-type {\n",
       "        vertical-align: middle;\n",
       "    }\n",
       "\n",
       "    .dataframe tbody tr th {\n",
       "        vertical-align: top;\n",
       "    }\n",
       "\n",
       "    .dataframe thead th {\n",
       "        text-align: right;\n",
       "    }\n",
       "</style>\n",
       "<table border=\"1\" class=\"dataframe\">\n",
       "  <thead>\n",
       "    <tr style=\"text-align: right;\">\n",
       "      <th></th>\n",
       "      <th>Year</th>\n",
       "      <th>Player</th>\n",
       "      <th>Pos</th>\n",
       "      <th>HT</th>\n",
       "      <th>WT</th>\n",
       "      <th>Team</th>\n",
       "      <th>Selection Type</th>\n",
       "      <th>NBA Draft Status</th>\n",
       "      <th>Nationality</th>\n",
       "    </tr>\n",
       "  </thead>\n",
       "  <tbody>\n",
       "    <tr>\n",
       "      <th>0</th>\n",
       "      <td>2016</td>\n",
       "      <td>Stephen Curry</td>\n",
       "      <td>G</td>\n",
       "      <td>6-3</td>\n",
       "      <td>190</td>\n",
       "      <td>Golden State Warriors</td>\n",
       "      <td>Western All-Star Fan Vote Selection</td>\n",
       "      <td>2009 Rnd 1 Pick 7</td>\n",
       "      <td>United States</td>\n",
       "    </tr>\n",
       "    <tr>\n",
       "      <th>1</th>\n",
       "      <td>2016</td>\n",
       "      <td>James Harden</td>\n",
       "      <td>SG</td>\n",
       "      <td>6-5</td>\n",
       "      <td>220</td>\n",
       "      <td>Houston Rockets</td>\n",
       "      <td>Western All-Star Fan Vote Selection</td>\n",
       "      <td>2009 Rnd 1 Pick 3</td>\n",
       "      <td>United States</td>\n",
       "    </tr>\n",
       "    <tr>\n",
       "      <th>2</th>\n",
       "      <td>2016</td>\n",
       "      <td>Kevin Durant</td>\n",
       "      <td>SF</td>\n",
       "      <td>6-9</td>\n",
       "      <td>240</td>\n",
       "      <td>Golden State Warriors</td>\n",
       "      <td>Western All-Star Fan Vote Selection</td>\n",
       "      <td>2007 Rnd 1 Pick 2</td>\n",
       "      <td>United States</td>\n",
       "    </tr>\n",
       "    <tr>\n",
       "      <th>3</th>\n",
       "      <td>2016</td>\n",
       "      <td>Kawhi Leonard</td>\n",
       "      <td>F</td>\n",
       "      <td>6-7</td>\n",
       "      <td>230</td>\n",
       "      <td>San Antonio Spurs</td>\n",
       "      <td>Western All-Star Fan Vote Selection</td>\n",
       "      <td>2011 Rnd 1 Pick 15</td>\n",
       "      <td>United States</td>\n",
       "    </tr>\n",
       "    <tr>\n",
       "      <th>4</th>\n",
       "      <td>2016</td>\n",
       "      <td>Anthony Davis</td>\n",
       "      <td>PF</td>\n",
       "      <td>6-11</td>\n",
       "      <td>253</td>\n",
       "      <td>New Orleans Pelicans</td>\n",
       "      <td>Western All-Star Fan Vote Selection</td>\n",
       "      <td>2012 Rnd 1 Pick 1</td>\n",
       "      <td>United States</td>\n",
       "    </tr>\n",
       "    <tr>\n",
       "      <th>...</th>\n",
       "      <td>...</td>\n",
       "      <td>...</td>\n",
       "      <td>...</td>\n",
       "      <td>...</td>\n",
       "      <td>...</td>\n",
       "      <td>...</td>\n",
       "      <td>...</td>\n",
       "      <td>...</td>\n",
       "      <td>...</td>\n",
       "    </tr>\n",
       "    <tr>\n",
       "      <th>434</th>\n",
       "      <td>2000</td>\n",
       "      <td>Antonio McDyess</td>\n",
       "      <td>F</td>\n",
       "      <td>6-9</td>\n",
       "      <td>245</td>\n",
       "      <td>Denver Nuggets</td>\n",
       "      <td>Western All-Star Coaches Selection</td>\n",
       "      <td>1995 Rnd 1 Pick 2</td>\n",
       "      <td>United States</td>\n",
       "    </tr>\n",
       "    <tr>\n",
       "      <th>435</th>\n",
       "      <td>2000</td>\n",
       "      <td>Gary Payton</td>\n",
       "      <td>G</td>\n",
       "      <td>6-4</td>\n",
       "      <td>180</td>\n",
       "      <td>Seattle SuperSonics</td>\n",
       "      <td>Western All-Star Coaches Selection</td>\n",
       "      <td>1990 Rnd 1 Pick 2</td>\n",
       "      <td>United States</td>\n",
       "    </tr>\n",
       "    <tr>\n",
       "      <th>436</th>\n",
       "      <td>2000</td>\n",
       "      <td>Rasheed Wallace</td>\n",
       "      <td>FC</td>\n",
       "      <td>6-11</td>\n",
       "      <td>230</td>\n",
       "      <td>Portland Trail Blazers</td>\n",
       "      <td>Western All-Star Coaches Selection</td>\n",
       "      <td>1995 Rnd 1 Pick 4</td>\n",
       "      <td>United States</td>\n",
       "    </tr>\n",
       "    <tr>\n",
       "      <th>437</th>\n",
       "      <td>2000</td>\n",
       "      <td>David Robinson</td>\n",
       "      <td>C</td>\n",
       "      <td>7-1</td>\n",
       "      <td>250</td>\n",
       "      <td>San Antonio Spurs</td>\n",
       "      <td>Western All-Star Coaches Selection</td>\n",
       "      <td>1987 Rnd 1 Pick 1</td>\n",
       "      <td>United States</td>\n",
       "    </tr>\n",
       "    <tr>\n",
       "      <th>438</th>\n",
       "      <td>2000</td>\n",
       "      <td>Vlade Divac</td>\n",
       "      <td>C</td>\n",
       "      <td>7-1</td>\n",
       "      <td>260</td>\n",
       "      <td>Sacramento Kings</td>\n",
       "      <td>Western All-Star Replacement Selection</td>\n",
       "      <td>1989 Rnd 1 Pick 26</td>\n",
       "      <td>Serbia</td>\n",
       "    </tr>\n",
       "  </tbody>\n",
       "</table>\n",
       "<p>439 rows × 9 columns</p>\n",
       "</div>"
      ],
      "text/plain": [
       "     Year           Player Pos    HT   WT                    Team  \\\n",
       "0    2016    Stephen Curry   G   6-3  190   Golden State Warriors   \n",
       "1    2016     James Harden  SG   6-5  220         Houston Rockets   \n",
       "2    2016     Kevin Durant  SF   6-9  240   Golden State Warriors   \n",
       "3    2016    Kawhi Leonard   F   6-7  230       San Antonio Spurs   \n",
       "4    2016    Anthony Davis  PF  6-11  253    New Orleans Pelicans   \n",
       "..    ...              ...  ..   ...  ...                     ...   \n",
       "434  2000  Antonio McDyess   F   6-9  245          Denver Nuggets   \n",
       "435  2000      Gary Payton   G   6-4  180     Seattle SuperSonics   \n",
       "436  2000  Rasheed Wallace  FC  6-11  230  Portland Trail Blazers   \n",
       "437  2000   David Robinson   C   7-1  250       San Antonio Spurs   \n",
       "438  2000      Vlade Divac   C   7-1  260        Sacramento Kings   \n",
       "\n",
       "                             Selection Type    NBA Draft Status    Nationality  \n",
       "0       Western All-Star Fan Vote Selection   2009 Rnd 1 Pick 7  United States  \n",
       "1       Western All-Star Fan Vote Selection   2009 Rnd 1 Pick 3  United States  \n",
       "2       Western All-Star Fan Vote Selection   2007 Rnd 1 Pick 2  United States  \n",
       "3       Western All-Star Fan Vote Selection  2011 Rnd 1 Pick 15  United States  \n",
       "4       Western All-Star Fan Vote Selection   2012 Rnd 1 Pick 1  United States  \n",
       "..                                      ...                 ...            ...  \n",
       "434      Western All-Star Coaches Selection   1995 Rnd 1 Pick 2  United States  \n",
       "435      Western All-Star Coaches Selection   1990 Rnd 1 Pick 2  United States  \n",
       "436      Western All-Star Coaches Selection   1995 Rnd 1 Pick 4  United States  \n",
       "437      Western All-Star Coaches Selection   1987 Rnd 1 Pick 1  United States  \n",
       "438  Western All-Star Replacement Selection  1989 Rnd 1 Pick 26         Serbia  \n",
       "\n",
       "[439 rows x 9 columns]"
      ]
     },
     "execution_count": 2,
     "metadata": {},
     "output_type": "execute_result"
    }
   ],
   "source": [
    "asdata = pd.read_csv('allstar.csv')\n",
    "asdata"
   ]
  },
  {
   "cell_type": "code",
   "execution_count": 6,
   "metadata": {},
   "outputs": [
    {
     "data": {
      "text/plain": [
       "count    439.000000\n",
       "mean     228.751708\n",
       "std       30.834435\n",
       "min      165.000000\n",
       "25%      210.000000\n",
       "50%      235.000000\n",
       "75%      246.000000\n",
       "max      325.000000\n",
       "Name: WT, dtype: float64"
      ]
     },
     "execution_count": 6,
     "metadata": {},
     "output_type": "execute_result"
    }
   ],
   "source": [
    "asdata.describe()['WT']\n",
    "\n"
   ]
  },
  {
   "cell_type": "markdown",
   "metadata": {},
   "source": [
    "## 1- 228 lbs\n",
    "\n"
   ]
  },
  {
   "cell_type": "markdown",
   "metadata": {},
   "source": [
    "# What team is represented the most during this time?"
   ]
  },
  {
   "cell_type": "code",
   "execution_count": 26,
   "metadata": {},
   "outputs": [
    {
     "data": {
      "text/plain": [
       "Miami Heat                28\n",
       "Boston Celtics            26\n",
       "Los Angeles Lakers        25\n",
       "San Antonio Spurs         25\n",
       "Houston Rockets           20\n",
       "Dallas Mavericks          18\n",
       "Atlanta Hawks             18\n",
       "Phoenix Suns              18\n",
       "Cleveland Cavaliers       17\n",
       "Toronto Raptors           16\n",
       "Detroit Pistons           15\n",
       "Indiana Pacers            15\n",
       "Los Angeles Clippers      14\n",
       "Orlando Magic             14\n",
       "Washington Wizards        13\n",
       "Oklahoma City Thunder     13\n",
       "Minnesota Timberwolves    12\n",
       "Chicago Bulls             12\n",
       "New Jersey Nets           12\n",
       "Philadelphia Sixers       11\n",
       "Golden State Warriors     11\n",
       "Sacramento Kings          11\n",
       "New York Knicks           10\n",
       "Portland Trail Blazers    10\n",
       "Utah Jazz                  9\n",
       "Denver Nuggets             9\n",
       "New Orleans Hornets        9\n",
       "Seattle SuperSonics        8\n",
       "Memphis Grizzlies          6\n",
       "Milwaukee Bucks            5\n",
       "New Orleans Pelicans       4\n",
       "Charlotte Hornets          2\n",
       "Brooklyn Nets              2\n",
       "Charlotte Bobcats          1\n",
       "Name: Team, dtype: int64"
      ]
     },
     "execution_count": 26,
     "metadata": {},
     "output_type": "execute_result"
    }
   ],
   "source": [
    "asdata['Team'].nunique()\n",
    "\n",
    "asdata.Team.value_counts()\n",
    "\n",
    "# asdata.groupby('Team')[['Player']].nunique().sort_values(['Player'], ascending=False)"
   ]
  },
  {
   "cell_type": "markdown",
   "metadata": {},
   "source": [
    "## 2- Miami Heat"
   ]
  },
  {
   "cell_type": "markdown",
   "metadata": {},
   "source": [
    "# What draft class is represeted the most during this time?"
   ]
  },
  {
   "cell_type": "code",
   "execution_count": 27,
   "metadata": {},
   "outputs": [
    {
     "data": {
      "text/plain": [
       "Index(['Year', 'Player', 'Pos', 'HT', 'WT', 'Team', 'Selection Type',\n",
       "       'NBA Draft Status', 'Nationality'],\n",
       "      dtype='object')"
      ]
     },
     "execution_count": 27,
     "metadata": {},
     "output_type": "execute_result"
    }
   ],
   "source": [
    "asdata.keys()"
   ]
  },
  {
   "cell_type": "code",
   "execution_count": 31,
   "metadata": {},
   "outputs": [
    {
     "data": {
      "text/plain": [
       "1996 Rnd 1 Pick 13    16\n",
       "1997 Rnd 1 Pick 1     13\n",
       "1998 Rnd 1 Pick 9     13\n",
       "2003 Rnd 1 Pick 1     13\n",
       "2003 Rnd 1 Pick 5     12\n",
       "1995 Rnd 1 Pick 5     12\n",
       "2003 Rnd 1 Pick 4     11\n",
       "1996 Rnd 1 Pick 1     10\n",
       "1998 Rnd 1 Pick 10    10\n",
       "2003 Rnd 1 Pick 3      9\n",
       "1996 Rnd 1 Pick 5      9\n",
       "2005 Rnd 1 Pick 4      9\n",
       "2004 Rnd 1 Pick 1      8\n",
       "1996 Rnd 1 Pick 15     8\n",
       "2002 Rnd 1 Pick 1      8\n",
       "2007 Rnd 1 Pick 2      8\n",
       "1992 Rnd 1 Pick 1      8\n",
       "1994 Rnd 1 Pick 2      7\n",
       "2001 Rnd 1 Pick 10     7\n",
       "1997 Rnd 1 Pick 9      7\n",
       "Name: NBA Draft Status, dtype: int64"
      ]
     },
     "execution_count": 31,
     "metadata": {},
     "output_type": "execute_result"
    }
   ],
   "source": [
    "asdata['NBA Draft Status'].value_counts().sort_values(ascending=False).head(20)"
   ]
  },
  {
   "cell_type": "markdown",
   "metadata": {},
   "source": [
    "## 3- 1996 depending on how you view this question"
   ]
  },
  {
   "cell_type": "markdown",
   "metadata": {},
   "source": [
    "# Are foriegn players more prevalent in the All-Star Game during this time?"
   ]
  },
  {
   "cell_type": "code",
   "execution_count": 32,
   "metadata": {},
   "outputs": [
    {
     "data": {
      "text/plain": [
       "United States                        365\n",
       "Germany                               13\n",
       "Spain                                  9\n",
       "Canada\\nSouth Africa                   8\n",
       "China                                  8\n",
       "France                                 6\n",
       "United States\\nAustralia               4\n",
       "Dominican Republic\\nUnited States      4\n",
       "Serbia\\nGreece                         3\n",
       "Argentina                              2\n",
       "France\\nUnited States                  2\n",
       "England\\nSouth Sudan                   2\n",
       "Lithuania                              2\n",
       "Democratic Republic of the Congo       2\n",
       "Germany\\nUnited States                 2\n",
       "United States\\nGermany                 1\n",
       "Turkey                                 1\n",
       "Russia                                 1\n",
       "Canada                                 1\n",
       "Greece\\nNigeria                        1\n",
       "Name: Nationality, dtype: int64"
      ]
     },
     "execution_count": 32,
     "metadata": {},
     "output_type": "execute_result"
    }
   ],
   "source": [
    "asdata['Nationality'].value_counts().sort_values(ascending=False).head(20)"
   ]
  },
  {
   "cell_type": "markdown",
   "metadata": {},
   "source": [
    "## 4- Not even close unless we're comparing to data outside of set provided."
   ]
  },
  {
   "cell_type": "markdown",
   "metadata": {},
   "source": [
    "# How often are the Western All-Stars voted in by fans?"
   ]
  },
  {
   "cell_type": "code",
   "execution_count": 33,
   "metadata": {},
   "outputs": [
    {
     "data": {
      "text/plain": [
       "Index(['Year', 'Player', 'Pos', 'HT', 'WT', 'Team', 'Selection Type',\n",
       "       'NBA Draft Status', 'Nationality'],\n",
       "      dtype='object')"
      ]
     },
     "execution_count": 33,
     "metadata": {},
     "output_type": "execute_result"
    }
   ],
   "source": [
    "asdata.keys()"
   ]
  },
  {
   "cell_type": "code",
   "execution_count": 37,
   "metadata": {},
   "outputs": [
    {
     "data": {
      "text/plain": [
       "Western All-Star Coaches Selection        119\n",
       "Eastern All-Star Coaches Selection        119\n",
       "Western All-Star Fan Vote Selection        85\n",
       "Eastern All-Star Fan Vote Selection        85\n",
       "Eastern All-Star Replacement Selection     16\n",
       "Western All-Star Replacement Selection     15\n",
       "Name: Selection Type, dtype: int64"
      ]
     },
     "execution_count": 37,
     "metadata": {},
     "output_type": "execute_result"
    }
   ],
   "source": [
    "# w = asdata[asdata['Selection Type'] == 'Western All-Star Fan Vote Selection']\n",
    "asdata['Selection Type'].value_counts()\n"
   ]
  },
  {
   "cell_type": "markdown",
   "metadata": {},
   "source": [
    "## 5- 85 times"
   ]
  },
  {
   "cell_type": "markdown",
   "metadata": {},
   "source": [
    "# How many times does Steph Curry make the All-Star game during this time period?"
   ]
  },
  {
   "cell_type": "code",
   "execution_count": 38,
   "metadata": {},
   "outputs": [
    {
     "data": {
      "text/plain": [
       "Index(['Year', 'Player', 'Pos', 'HT', 'WT', 'Team', 'Selection Type',\n",
       "       'NBA Draft Status', 'Nationality'],\n",
       "      dtype='object')"
      ]
     },
     "execution_count": 38,
     "metadata": {},
     "output_type": "execute_result"
    }
   ],
   "source": [
    "asdata.keys()"
   ]
  },
  {
   "cell_type": "code",
   "execution_count": 39,
   "metadata": {},
   "outputs": [
    {
     "data": {
      "text/html": [
       "<div>\n",
       "<style scoped>\n",
       "    .dataframe tbody tr th:only-of-type {\n",
       "        vertical-align: middle;\n",
       "    }\n",
       "\n",
       "    .dataframe tbody tr th {\n",
       "        vertical-align: top;\n",
       "    }\n",
       "\n",
       "    .dataframe thead th {\n",
       "        text-align: right;\n",
       "    }\n",
       "</style>\n",
       "<table border=\"1\" class=\"dataframe\">\n",
       "  <thead>\n",
       "    <tr style=\"text-align: right;\">\n",
       "      <th></th>\n",
       "      <th>Year</th>\n",
       "      <th>Player</th>\n",
       "      <th>Pos</th>\n",
       "      <th>HT</th>\n",
       "      <th>WT</th>\n",
       "      <th>Team</th>\n",
       "      <th>Selection Type</th>\n",
       "      <th>NBA Draft Status</th>\n",
       "      <th>Nationality</th>\n",
       "    </tr>\n",
       "  </thead>\n",
       "  <tbody>\n",
       "    <tr>\n",
       "      <th>0</th>\n",
       "      <td>2016</td>\n",
       "      <td>Stephen Curry</td>\n",
       "      <td>G</td>\n",
       "      <td>6-3</td>\n",
       "      <td>190</td>\n",
       "      <td>Golden State Warriors</td>\n",
       "      <td>Western All-Star Fan Vote Selection</td>\n",
       "      <td>2009 Rnd 1 Pick 7</td>\n",
       "      <td>United States</td>\n",
       "    </tr>\n",
       "    <tr>\n",
       "      <th>41</th>\n",
       "      <td>2015</td>\n",
       "      <td>Stephen Curry</td>\n",
       "      <td>G</td>\n",
       "      <td>6-3</td>\n",
       "      <td>190</td>\n",
       "      <td>Golden State Warriors</td>\n",
       "      <td>Western All-Star Fan Vote Selection</td>\n",
       "      <td>2009 Rnd 1 Pick 7</td>\n",
       "      <td>United States</td>\n",
       "    </tr>\n",
       "    <tr>\n",
       "      <th>63</th>\n",
       "      <td>2014</td>\n",
       "      <td>Stephen Curry</td>\n",
       "      <td>G</td>\n",
       "      <td>6-3</td>\n",
       "      <td>190</td>\n",
       "      <td>Golden State Warriors</td>\n",
       "      <td>Western All-Star Fan Vote Selection</td>\n",
       "      <td>2009 Rnd 1 Pick 7</td>\n",
       "      <td>United States</td>\n",
       "    </tr>\n",
       "    <tr>\n",
       "      <th>87</th>\n",
       "      <td>2013</td>\n",
       "      <td>Stephen Curry</td>\n",
       "      <td>G</td>\n",
       "      <td>6-3</td>\n",
       "      <td>190</td>\n",
       "      <td>Golden State Warriors</td>\n",
       "      <td>Western All-Star Fan Vote Selection</td>\n",
       "      <td>2009 Rnd 1 Pick 7</td>\n",
       "      <td>United States</td>\n",
       "    </tr>\n",
       "  </tbody>\n",
       "</table>\n",
       "</div>"
      ],
      "text/plain": [
       "    Year         Player Pos   HT   WT                   Team  \\\n",
       "0   2016  Stephen Curry   G  6-3  190  Golden State Warriors   \n",
       "41  2015  Stephen Curry   G  6-3  190  Golden State Warriors   \n",
       "63  2014  Stephen Curry   G  6-3  190  Golden State Warriors   \n",
       "87  2013  Stephen Curry   G  6-3  190  Golden State Warriors   \n",
       "\n",
       "                         Selection Type   NBA Draft Status    Nationality  \n",
       "0   Western All-Star Fan Vote Selection  2009 Rnd 1 Pick 7  United States  \n",
       "41  Western All-Star Fan Vote Selection  2009 Rnd 1 Pick 7  United States  \n",
       "63  Western All-Star Fan Vote Selection  2009 Rnd 1 Pick 7  United States  \n",
       "87  Western All-Star Fan Vote Selection  2009 Rnd 1 Pick 7  United States  "
      ]
     },
     "execution_count": 39,
     "metadata": {},
     "output_type": "execute_result"
    }
   ],
   "source": [
    "sc = asdata[asdata['Player'] == 'Stephen Curry']\n",
    "sc"
   ]
  },
  {
   "cell_type": "markdown",
   "metadata": {},
   "source": [
    "## 6- 4 times, 2013-2016"
   ]
  },
  {
   "cell_type": "markdown",
   "metadata": {},
   "source": [
    "# How many Shooting Gaurds have made the All-Star game during this time?"
   ]
  },
  {
   "cell_type": "code",
   "execution_count": 40,
   "metadata": {},
   "outputs": [
    {
     "data": {
      "text/plain": [
       "G      72\n",
       "FC     61\n",
       "SG     57\n",
       "PF     57\n",
       "C      50\n",
       "F      45\n",
       "PG     36\n",
       "SF     35\n",
       "GF     22\n",
       "F-C     3\n",
       "G-F     1\n",
       "Name: Pos, dtype: int64"
      ]
     },
     "execution_count": 40,
     "metadata": {},
     "output_type": "execute_result"
    }
   ],
   "source": [
    "asdata['Pos'].value_counts()"
   ]
  },
  {
   "cell_type": "markdown",
   "metadata": {},
   "source": [
    "## 7- 57"
   ]
  },
  {
   "cell_type": "markdown",
   "metadata": {},
   "source": [
    "# How many Chicago Bulls players have made the All-Star Game during this time period?"
   ]
  },
  {
   "cell_type": "code",
   "execution_count": 41,
   "metadata": {},
   "outputs": [
    {
     "data": {
      "text/plain": [
       "Miami Heat                28\n",
       "Boston Celtics            26\n",
       "Los Angeles Lakers        25\n",
       "San Antonio Spurs         25\n",
       "Houston Rockets           20\n",
       "Dallas Mavericks          18\n",
       "Atlanta Hawks             18\n",
       "Phoenix Suns              18\n",
       "Cleveland Cavaliers       17\n",
       "Toronto Raptors           16\n",
       "Detroit Pistons           15\n",
       "Indiana Pacers            15\n",
       "Los Angeles Clippers      14\n",
       "Orlando Magic             14\n",
       "Washington Wizards        13\n",
       "Oklahoma City Thunder     13\n",
       "Minnesota Timberwolves    12\n",
       "Chicago Bulls             12\n",
       "New Jersey Nets           12\n",
       "Philadelphia Sixers       11\n",
       "Golden State Warriors     11\n",
       "Sacramento Kings          11\n",
       "New York Knicks           10\n",
       "Portland Trail Blazers    10\n",
       "Utah Jazz                  9\n",
       "Denver Nuggets             9\n",
       "New Orleans Hornets        9\n",
       "Seattle SuperSonics        8\n",
       "Memphis Grizzlies          6\n",
       "Milwaukee Bucks            5\n",
       "New Orleans Pelicans       4\n",
       "Charlotte Hornets          2\n",
       "Brooklyn Nets              2\n",
       "Charlotte Bobcats          1\n",
       "Name: Team, dtype: int64"
      ]
     },
     "execution_count": 41,
     "metadata": {},
     "output_type": "execute_result"
    }
   ],
   "source": [
    "asdata['Team'].value_counts()"
   ]
  },
  {
   "cell_type": "markdown",
   "metadata": {},
   "source": [
    "## 8- 12"
   ]
  },
  {
   "cell_type": "code",
   "execution_count": null,
   "metadata": {},
   "outputs": [],
   "source": []
  }
 ],
 "metadata": {
  "kernelspec": {
   "display_name": "Python 3 (ipykernel)",
   "language": "python",
   "name": "python3"
  },
  "language_info": {
   "codemirror_mode": {
    "name": "ipython",
    "version": 3
   },
   "file_extension": ".py",
   "mimetype": "text/x-python",
   "name": "python",
   "nbconvert_exporter": "python",
   "pygments_lexer": "ipython3",
   "version": "3.9.7"
  }
 },
 "nbformat": 4,
 "nbformat_minor": 2
}
